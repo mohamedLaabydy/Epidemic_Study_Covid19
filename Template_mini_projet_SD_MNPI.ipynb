{
  "cells": [
    {
      "cell_type": "markdown",
      "metadata": {
        "id": "VMRoEeh5mSG6"
      },
      "source": [
        "# Mini projet : Systèmes dynamiques & Méthodes numériques pour l'ingénieur \n",
        "\n"
      ]
    },
    {
      "cell_type": "markdown",
      "metadata": {
        "id": "ya4VJeG_mP69"
      },
      "source": [
        "# **Modélisation et dynamique d'une épidémie, COVID-19 avec et sans confinement -Cas du Maroc-**\n",
        "**Membres du groupe:**\n",
        "\n",
        " * **KADIRI Hiba**      :  Analyse numérique / Etude théorique du système avec confinement / Résultats et Discussion.\n",
        " * **ELHOUARI Nada**    :  Modélisation du problème / Etude théorique du système sans confinement / Vérification des résultats.\n",
        " * **HIRAJI Younes**    :  Etude théorique du sysème avec confinement.\n",
        " * **ELFARSI Latifa**   :  Etude théorique du système avec confinement.\n",
        " * **LAABYDY Mohamed**  :  Analyse numérique / Etude théorique du système avec confinement / Algorithme et implémentation."
      ]
    },
    {
      "cell_type": "markdown",
      "metadata": {
        "id": "SwtD4Qk2p7RQ"
      },
      "source": [
        "# 0. Modélisation :  "
      ]
    },
    {
      "cell_type": "markdown",
      "source": [
        "Ce projet présente un modèle mathématique SIR (L'acronyme SIR fait référence aux trois compartiments principaux du modèle : Susceptible (S), Infecté (I) et Retiré ou Rétabli (R)) visant à analyser la dynamique de propagation du Covid-19 tout en prenant en compte l'impact du confinement sur la population susceptible et de l'isolement de la population infectieuse. \\\\\n",
        "\n",
        "\\\n",
        "L'un des paramètres clés que nous évaluons est le nombre de reproduction de base, $R_0$ , qui représente le nombre moyen de nouveaux cas engendrés par un individu infectieux typique au sein d'une population totalement composée d'individus susceptibles, pendant sa période d'infection. Cette étude se concentre spécifiquement sur le contexte du Maroc en utilisant ledit modèle."
      ],
      "metadata": {
        "id": "I6-PLfemO_B1"
      }
    },
    {
      "cell_type": "markdown",
      "source": [
        "**Le modèle SIR :** \\\\\n",
        "Le modèle SIR suppose que la population totale reste constante, ce qui signifie qu'il n'y a pas de naissances ou de décès pris en compte. Il utilise des équations différentielles pour décrire les taux de changement des populations dans chaque compartiment en fonction de paramètres tels que le taux de transmission de la maladie et le taux de récupération. \\\\\n",
        "\\\n",
        "Ce modèle permet d'étudier la dynamique de propagation d'une maladie, d'estimer l'impact des interventions (comme la vaccination ou le confinement) et de prévoir l'évolution de l'épidémie dans une population donnée.\n"
      ],
      "metadata": {
        "id": "FpZiiOHnPXes"
      }
    },
    {
      "cell_type": "markdown",
      "source": [
        "Nous proposons un modèle SIR qui étend le modèle classique de Kermack et McKendrick $[4, 5, 6, 1]$  en tenant compte de l'effet du confinement sur les deux populations, les susceptibles et les infectieuses. Nous supposons également que $0 ≤ α < 1$  et $0 ≤ δ < 1$  sont les taux de confinement des susceptibles et d'isolement des infectieuses respectivement. Ainsi, la fraction des susceptibles confinés (protégés) est $αS$ , tandis que la fraction des susceptibles non confinés est $(1 − α) S$ , représentant la fraction des susceptibles d'être infectés par la fraction des infectieuses non confinées $(1 − δ)I$  à un taux d'infection égal à $δ$ . La fraction $δI$ est confinée. Λ représente la densité de naissances des susceptibles. La population $R$ comprend les individus retirés de la chaîne de transmission, y compris ceux confinés $(αS)$ , ceux isolés $(δI)$ , les personnes guéries et les personnes décédées."
      ],
      "metadata": {
        "id": "5di0ifkVjVH6"
      }
    },
    {
      "cell_type": "markdown",
      "source": [
        "\\begin{cases}\n",
        "\\frac{dS}{dt}= Λ- β(1-α)(1-δ)SI-αS \\\\\n",
        "\\\n",
        "\\frac{dI}{dt}= β(1-α)(1-δ)SI-γI-δI\\\\\n",
        "\\frac{dR}{dt}=γI+αS+δI \\\\\n",
        "\\\n",
        "N=S+I+R= constante → si Λ=0\\\\\n",
        "S(0) > 0 , I(0) > 0 , R(0) > 0\\\\\n",
        "\\end{cases}\n",
        "\n",
        "\n"
      ],
      "metadata": {
        "id": "f0ByF-3ojymU"
      }
    },
    {
      "cell_type": "markdown",
      "source": [
        "####Dans la première partie on va évaluer un système d'équation sans confinement.\n",
        "\\begin{cases}\n",
        "\\frac{dS}{dt}=- βSI\\\\\n",
        "\\frac{dI}{dt}=βSI - γI\n",
        "\\end{cases} \\\\\n",
        "\n",
        "\n",
        "####Et dans la deuxième partie on va s'intéresser à l'évolution de la maladie avec confinement.\n",
        "\\begin{cases}\n",
        "\\frac{dS}{dt}=Ʌ - β.(1-α).(1-δ).SI-α.S\\\\\n",
        "\\frac{dI}{dt}= β.(1-α).(1-δ).SI - γI- δI\n",
        "\\end{cases} \\\\"
      ],
      "metadata": {
        "id": "_j09CqxFmSjT"
      }
    },
    {
      "cell_type": "markdown",
      "metadata": {
        "id": "zsyeD3U3qGnu"
      },
      "source": [
        "# 1. Etude théorique (module système dynamique)"
      ]
    },
    {
      "cell_type": "markdown",
      "source": [
        "### **1.Evolution de la maladie sans confinement :** "
      ],
      "metadata": {
        "id": "c8gPudfLom0j"
      }
    },
    {
      "cell_type": "markdown",
      "source": [
        "L’étude se fera sur le système qu’on a déjà défini pour le cas sans confinement et avec les mêmes hypothèses (nous supposons que le confinement n’est pas encore déclaré, α = δ = 0, nous supposons aussi que le nombre de naissances est négligeable, Λ = 0) : \\\\\n",
        "\\begin{cases}\n",
        "\\frac{dS}{dt}=- βSI\\\\\n",
        "\\frac{dI}{dt}=βSI - γI\n",
        "\\end{cases} \\\\\n",
        "En se basant sur des analyses épidémiologiques et des ajustements de modèle aux données observées de l'évolution de la maladie dans le Maroc,on prend : β = 0.17 et γ=0,146 \\\\\n",
        "**•\tEtude de l’existence :** \\\\\n",
        "En vertu du théorème de Cauchy-Lipschitz, nous avons l’existence d’une solution du système ; étudions maintenant les points d’équilibre. \\\\\n",
        "**•\tLes points d’équilibre et leur stabilité :** \\\\\n",
        "On a le système: \n",
        "\\begin{cases}\n",
        "\\frac{dS}{dt}=- 0,17 SI\\\\\n",
        "\\frac{dI}{dt}=0,17 SI - 0,146 I\n",
        "\\end{cases} \\\\\n",
        "Donc les points d’équilibre sont : (0 ; 0) et (0 ; 0,86)\n",
        "Etudions maintenant la stabilité de ses deux points : \\\\\n",
        "On commence par calculer la matrice jacobienne : \\\\\n",
        "$J =\\begin{pmatrix}\n",
        "-0,17I & -0,17S  \\\\\n",
        "0.17I-0.146 & 0.17S-0.146  \\\\\n",
        "\\end{pmatrix}$\n",
        "\n",
        "\n",
        "\n",
        "\n",
        "\n"
      ],
      "metadata": {
        "id": "QzQ3IvUqiYQi"
      }
    },
    {
      "cell_type": "markdown",
      "source": [
        "**Pour le point d'équilibre (0 ; 0) :** \\\\\n",
        "$J(0,0) =\\begin{pmatrix}\n",
        "0 & 0  \\\\\n",
        "-0.146 & -0.146  \\\\\n",
        "\\end{pmatrix}$ \\\\\n",
        "Les valeurs propres de J (0,0) sont les solutions de l'équation caractéristique $det(J(0,0) - λI) = 0$ , où I est la matrice identité. \\\\\n",
        "En résolvant cette équation, nous obtenons les valeurs propres suivantes : \\\\\n",
        "$λ_1 = 0 \\\\\n",
        "λ_2 = -0.292$ \\\\\n",
        "La valeur propre $λ_1 = 0$ indique une stabilité marginale et la valeur propre $λ_2 = -0.292$ a une partie réelle négative, ce qui indique que le point d'équilibre $(0,0)$ est un point d'équilibre instable.\n",
        "\n",
        "\n"
      ],
      "metadata": {
        "id": "MEorGKWcmPIo"
      }
    },
    {
      "cell_type": "markdown",
      "source": [
        "**Pour le point d'équilibre (0 ; 0,86) :** \\\\\n",
        "$J(0,0.86) =\\begin{pmatrix}\n",
        "0 & -0,146  \\\\\n",
        "0 & -0.146  \\\\\n",
        "\\end{pmatrix}$ \\\\\n",
        "Les valeurs propres de $J (0,0.86)$ sont les solutions de l'équation caractéristique $det(J(0,0.86) - λI) = 0$ , avec I la matrice identité.\\\\\n",
        "En résolvant cette équation, nous obtenons les valeurs propres suivantes : \\\\\n",
        "$λ_1 = 0 \\\\\n",
        "λ_2 = -0.146$ \\\\\n",
        "Donc, le point d'équilibre (0,0.86) est un point d'équilibre instable avec une stabilité marginale le long de la direction associée à la valeur propre $λ_1 = 0$.\n",
        "\n",
        "\n"
      ],
      "metadata": {
        "id": "nC41feVcnLyg"
      }
    },
    {
      "cell_type": "markdown",
      "source": [
        "**Portrait de phase :** \\\\\n",
        "Nous allons maintenant tracer le portrait de phase du système pour visualiser les trajectoires et les comportements des variables dans le plan $(S, I)$."
      ],
      "metadata": {
        "id": "26soGgLjnJLR"
      }
    },
    {
      "cell_type": "code",
      "source": [
        "import numpy as np\n",
        "import matplotlib.pyplot as plt\n",
        "\n",
        "# Définition des équations différentielles\n",
        "def dS_dt(S, I):\n",
        "    return -0.17 * S * I\n",
        "\n",
        "def dI_dt(S, I):\n",
        "    return 0.17 * S * I - 0.146 * I\n",
        "\n",
        "# Définition des points d'équilibre\n",
        "def find_equilibrium():\n",
        "    S_eq = []\n",
        "    I_eq = []\n",
        "\n",
        "    # Résolution des équations pour dS_dt = 0 et dI_dt = 0\n",
        "    for S in np.linspace(0, 1, 100):\n",
        "        for I in np.linspace(0, 1, 100):\n",
        "            if abs(dS_dt(S, I)) < 0.01 and abs(dI_dt(S, I)) < 0.01:\n",
        "                S_eq.append(S)\n",
        "                I_eq.append(I)\n",
        "\n",
        "    return S_eq, I_eq\n",
        "\n",
        "# Calcul des points d'équilibre\n",
        "S_eq, I_eq = find_equilibrium()\n",
        "\n",
        "# Plage de valeurs de S et I\n",
        "S = np.linspace(0, 1, 20)\n",
        "I = np.linspace(0, 1, 20)\n",
        "\n",
        "# Création de la grille de valeurs\n",
        "S, I = np.meshgrid(S, I)\n",
        "\n",
        "# Calcul des dérivées dS et dI sur la grille de valeurs\n",
        "dS = dS_dt(S, I)\n",
        "dI = dI_dt(S, I)\n",
        "\n",
        "# Tracé des portraits de phase avec flèches vers les points d'équilibre\n",
        "plt.quiver(S, I, dS, dI)\n",
        "plt.scatter(S_eq, I_eq, color='red')\n",
        "plt.xlabel('S')\n",
        "plt.ylabel('I')\n",
        "plt.title('Portrait de phase du système')\n",
        "\n",
        "# Ajout des flèches\n",
        "for i in range(len(S_eq)):\n",
        "    plt.annotate(\"\", xy=(S_eq[i], I_eq[i]), xytext=(S_eq[i]+0.1, I_eq[i]), arrowprops=dict(arrowstyle=\"->\", lw=1.5))\n",
        "\n",
        "plt.grid()\n",
        "plt.show()\n"
      ],
      "metadata": {
        "id": "ZTorxhDk-Hoe"
      },
      "execution_count": null,
      "outputs": []
    },
    {
      "cell_type": "markdown",
      "source": [
        "### **2.Evolution de la maladie avec confinement :** "
      ],
      "metadata": {
        "id": "WbSY-PQepGY7"
      }
    },
    {
      "cell_type": "markdown",
      "source": [
        "Dans ce paragraphe, nous examinons le modèle $(1.1)$ avec les paramètres de confinement $α>0$ et $δ>0$ . \\\\\n",
        "Nous nous concentrons sur l'étude du système SI car la population du compartiment R depend des population $S$ et $I$ , tel que $S$ et $I$ independents de $R$ . \\\\\n",
        "Supposons que $Λ>0$ pour prendre en compte les nouvelles naissances pendant la durée de l'épidémie. \\\\\n",
        "Le système de départ devient : \\\\\n",
        "\\begin{cases}\n",
        "\\frac{dS}{dt}=Ʌ - β.(1-α).(1-δ).SI-α.S\\\\\n",
        "\\frac{dI}{dt}= β.(1-α).(1-δ).SI - γI- δI\n",
        "\\end{cases} \\\\\n",
        "En tenant compte de la dynamique de propagation du coronavirus au Maroc avec confinement, les valeurs de β et γ  ont été choisies pour modéliser une transmission relativement intense du virus et un taux de guérison moyen : \\\\\n",
        "$β=1.25$ et $γ=1$\n",
        "\n"
      ],
      "metadata": {
        "id": "_u5FjjnBpMon"
      }
    },
    {
      "cell_type": "markdown",
      "source": [
        "####**Point d'équilibre du système :** \n",
        "On résout ce système algébrique. on annule les dérivées de $S(t)$ et de $I(t)$ . \\\\\n",
        "On constate deux cas : \\\\"
      ],
      "metadata": {
        "id": "nrlAnxt7smGL"
      }
    },
    {
      "cell_type": "markdown",
      "source": [
        "**Le point d'équilibre sans maladie :** \\\\\n",
        "On a $I(t) = 0 $ , $ \\frac{dS}{dt}=0 $, $\\frac{dI}{dt}=0$ \\\\\n",
        "$Λ-β(1-α)(1_δ).0.I- αS = 0$ \\\\\n",
        "⇒ $S=\\frac{Λ}{α}$ \\\\\n",
        "D'où le point d'équilibre est $E_0=(\\frac{Λ}{α},0)$\n",
        "\n"
      ],
      "metadata": {
        "id": "ocBqsJPbtD0H"
      }
    },
    {
      "cell_type": "markdown",
      "source": [
        "**Le point d'équilibre avec maladie:** \\\\\n",
        "$ \\frac{dS}{dt}=0 $, $\\frac{dI}{dt}=0$ \\\\\n",
        "\n",
        "\\begin{cases}\n",
        "Λ-β(1-α)(1_δ).S^{\\ast}.I^{\\ast} αS^{\\ast} = 0 \\\\\n",
        "β(1-α)(1-δ)S^{\\ast}.I^{\\ast} - αS^{\\ast} - γI^{\\ast} - δI^{\\ast} = 0\n",
        "\\end{cases} \\\\\n",
        "\n",
        "\\begin{cases}\n",
        "S^{\\ast}=\\frac{γ+δ}{β.(1-α).(1-δ)}\\\\ \n",
        "\\\\\n",
        "I^{\\ast}=\\frac{Λ-α.S^{\\ast}}{β.(1-α).(1-δ).S^{\\ast}} = \\frac{Λ-α.S^{\\ast}}{γ+δ} \n",
        "\\end{cases} \\\\\n",
        "\n",
        "d'où $E^{\\ast}=(S^{\\ast},I^{\\ast})$ \\\\\n",
        "$E^{\\ast}$ est positif si $Λ-α.S^{\\ast} > 0$ \\\\\n",
        "⇒ $ Λ > \\frac{α(γ+δ)}{β(1-α)(1-δ)} $ \\\\\n",
        "\\\n",
        "⇒ $ \\frac{γβ(1-α)(1-δ)}{γ+δ} > 1 $ \\\\\n",
        "\\\n",
        "Posons $R_0=\\frac{γβ(1-α)(1-δ)}{γ+δ}$\n",
        "\n",
        "On fait la disjonction des deux cas : $R_0 < 1$ et $R_0 > 1$.\n",
        "\n",
        "**Premier cas: suposons que $R_0  < 1$ , alors:** \\\\\n",
        "\n",
        "on a $E^{\\ast}$ est négatif, donc $E^{\\ast}$ n'existe pas \\\\\n",
        "donc le point d'équilibre sans maladie $E_0$ est le seul point d'équilibre du système.\\\\\n",
        "**Etudions la stabilité de $E_0$ : ** \\\\\n",
        "d'abord calculons la jacobienne: \\\\\n",
        "\n",
        "$J(E)=\\begin{pmatrix}\n",
        "\\ - β(1- α)(1- δ)I-α &  -β(1- 𝛂)(1-δ)S \\\\\n",
        "β(1-α)(1-δ)I & β(1-α)(1-δ)S-γ-δ \\\\\n",
        "\\end{pmatrix}$ \\\\\n",
        "\\\n",
        "calculons $J(E_0)$: \\\\\n",
        "$J(E_0)=\\begin{pmatrix}\n",
        "\\ -α & \\frac{-β(1-α)(1-δ)𝚲}{α} \\\\\n",
        "0 &  \\frac{β(1-α)(1-δ)𝚲}{α} - γ -δ \\\\\n",
        "\\end{pmatrix}$ \\\\\n",
        "le polynome caractéristique de cette matrice: \n",
        "det(λI-J($E_0$)) a pour solutions: \\\\\n",
        " $λ_1=-α$ \\\\\n",
        "\n",
        " $λ_2 = \\frac{β(1-α)𝚲}{α}-γ-δ $ \\\\\n",
        "$λ_1<0$ et $λ_2<0$ \\\\\n",
        "donc le point d'équilibre $E_0$ est localement asymptotiquement stable\n",
        "\n",
        "**Deuxieme cas: supposons que $R_0>1$, alors:** \\\\\n",
        "-Il est évident que le point d'équilibre sans maladie $E_0$ est instable  \\\\\n",
        "-Pour le point d'équilibre avec maladie; \\\\\n",
        "calculons la jacobienne de $E^{\\ast}$ \\\\\n",
        "$J(E^{\\ast}) =\\begin{pmatrix}\n",
        "\\ -β(1-α)(1-δ)I^{\\ast}-α & -(γ+δ) \\\\\n",
        "β(1-α^)(1-δ)I^{\\ast} & 0 \\\\\n",
        "\\end{pmatrix}$  \\\\\n",
        "\\\n",
        "Comme $tr(J(E^{\\ast})) < 0$ et $det(J(E^{\\ast}))>0$ \\\\\n",
        "\n",
        "\\\n",
        "\n",
        "donc $E^{\\ast}$ est un point d'équilibre localement asymptotiquement stable.\n",
        "\n",
        "\n"
      ],
      "metadata": {
        "id": "cqba1Ni5ugiJ"
      }
    },
    {
      "cell_type": "markdown",
      "source": [
        "**Portrait de phase :** \\\\\n",
        "Dans cette partie nous allons tracer le portrait de phase de notre système. "
      ],
      "metadata": {
        "id": "WtVXZJdyox1i"
      }
    },
    {
      "cell_type": "code",
      "source": [
        "import numpy as np\n",
        "import matplotlib.pyplot as plt\n",
        "\n",
        "# Définir les paramètres du système\n",
        "alpha = 0.2\n",
        "beta = 0.5\n",
        "gamma = 0.3\n",
        "delta = 0.1\n",
        "Ʌ = 1\n",
        "# Définir les équations différentielles du système\n",
        "def dS_dt(S, I):\n",
        "    return Ʌ - beta * (1 - alpha) * (1 - delta) * S * I - alpha * S\n",
        "\n",
        "def dI_dt(S, I):\n",
        "    return beta * (1 - alpha) * (1 - delta) * S * I - gamma * I - delta * I\n",
        "\n",
        "# Définir les points d'équilibre\n",
        "equilibrium_points = [(Ʌ / (beta * (1 - alpha) * (1 - delta))), (Ʌ / (beta * (1 - alpha) * (1 - delta) * gamma + delta))]\n",
        "\n",
        "# Définir la fonction pour calculer les dérivées des variables\n",
        "def derivatives(variables, t):\n",
        "    S, I = variables\n",
        "    dSdt = dS_dt(S, I)\n",
        "    dIdt = dI_dt(S, I)\n",
        "    return [dSdt, dIdt]\n",
        "\n",
        "# Définir les valeurs pour la grille du portrait de phase\n",
        "S_values = np.linspace(0, 2, 20)\n",
        "I_values = np.linspace(0, 2, 20)\n",
        "\n",
        "# Créer la grille du portrait de phase\n",
        "S_grid, I_grid = np.meshgrid(S_values, I_values)\n",
        "\n",
        "# Calculer les dérivées sur la grille\n",
        "dSdt_grid, dIdt_grid = derivatives([S_grid, I_grid], 0)\n",
        "\n",
        "# Tracer le portrait de phase\n",
        "plt.figure(figsize=(8, 6))\n",
        "plt.quiver(S_grid, I_grid, dSdt_grid, dIdt_grid, scale=20)\n",
        "plt.xlabel('S')\n",
        "plt.ylabel('I')\n",
        "plt.title('Portrait de phase')\n",
        "plt.grid()\n",
        "plt.xlim([0, 2])\n",
        "plt.ylim([0, 2])\n",
        "\n",
        "\n",
        "# Définir les points d'équilibre\n",
        "equilibrium_points = [(Ʌ / (beta * (1 - alpha) * (1 - delta))), (Ʌ / (beta * (1 - alpha) * (1 - delta) * gamma + delta))]\n",
        "\n",
        "# Tracer les points d'équilibre\n",
        "for point in equilibrium_points:\n",
        "    plt.plot(point, 0, 'ro')\n",
        "    plt.text(point, 0, f'({point:.2f}, 0)', ha='center', va='bottom')\n",
        "\n",
        "\n",
        "# Afficher le graphique\n",
        "plt.show()\n"
      ],
      "metadata": {
        "id": "OYnBotUk6r2x"
      },
      "execution_count": null,
      "outputs": []
    },
    {
      "cell_type": "markdown",
      "metadata": {
        "id": "T6JkhvmvqQCA"
      },
      "source": [
        "# 2. Analyse numérique (module méthode numérique pour l’ingénieur)\n",
        "\n"
      ]
    },
    {
      "cell_type": "markdown",
      "source": [
        "Le problème s'écrit :\n",
        "\\begin{cases}\n",
        "\\frac{dS}{dt}=Ʌ - β.(1-α).(1-δ).SI-α.S\\\\\n",
        "     S(0)=N\n",
        "\\end{cases}\n"
      ],
      "metadata": {
        "id": "pLJRjE7rNfVE"
      }
    },
    {
      "cell_type": "markdown",
      "source": [
        "**Pour le schéma d'Euler explicite:**"
      ],
      "metadata": {
        "id": "mZL1Ji-EbNO7"
      }
    },
    {
      "cell_type": "markdown",
      "source": [
        "\n",
        "Soit h le pas du temps. \\\\\n",
        "$ S(t_n+h)=S(t_n)+h.\\dot{S}(t_n)\n",
        "= S(t_n)+h.(Ʌ - β.(1-α).(1-δ).S(t_n)I-α.S(t_n))\\\\\n",
        "= S(t_n).(Ʌ-hA-hα)+hɅ$ \\\\\n",
        "avec  $A= β.(1-α).(1-δ).I$\n"
      ],
      "metadata": {
        "id": "2W3q925JQkCI"
      }
    },
    {
      "cell_type": "markdown",
      "source": [
        "$S_1= S_0(1-hA-hα)+hɅ \\\\\n",
        "S_2= S_1(1-hA-hα)+hɅ \\\\\n",
        "S_2= S_0(1-hA-hα)^2 +hɅ(1-hA-hα)+ hɅ \\\\\n",
        "S_3= S_0(1-hA-hα)^3 +hɅ(1-hA-hα)^2+ hɅ(1-hA-hα)+ hɅ \\\\ $\n",
        "\n",
        "Alors on trouve l'expression récurrente suivante: \\\\\n",
        "$ S_n=S_0(1-hA-hα)^n + \\sum_{k=0}^{n-1} hɅ(1-hA-hα)^k $ \\\\\n",
        "C'est le schéma d'Euler explicite.\n",
        "\n",
        "\n",
        "\n"
      ],
      "metadata": {
        "id": "bEAqCfT3TaPu"
      }
    },
    {
      "cell_type": "markdown",
      "source": [
        "\n",
        "On perturbe la condition initiale $S_0$ avec $S̃_0=S_0+ϵ$ \\\\\n",
        "$ S̃=(S_0+ϵ).(1-Ah-hα)^n + \\sum_{k=0}^{n-1} hɅ(1-hA-hα)^k \\\\\n",
        "= S_n + ϵ(1-hA-hα)^n $ \\\\\n",
        "Alors $ | S̃_n - S_n |= ϵ|1-hA-hα|^n $ avec $ ϵ > 0$ \\\\\n",
        "Le schéma d'Euler reste stable après perturbation de la donnée initiale lorsque \\\\ $|1- Ah - α h |^n < 1 $ \\\\\n",
        "c-à-d $ 0 < h < \\frac{2}{A+α} $ \\\\\n",
        "Pour étudier la convergence de ce schéma, nous devons vérifier si la solution numerique $S_n$ converge vers la solution exacte $y$ lorsque le pas h tend vers 0. \\\\\n",
        "L'erreur: $ ϵ=y-S_n $ \\\\\n",
        "Or le schéma d'Euler  explicite a une convergence d'ordre 1, d'où cela signifie que $ ϵ(t)= 𝙾(h) $ alors on peut déduire que $\\lim_{h \\to a} ϵ = 0 $ \\\\\n",
        "Et par suite le schéma est convergent.\n",
        "\n",
        "\n",
        "\n",
        "\n",
        "\n",
        "\n"
      ],
      "metadata": {
        "id": "8RtKMmK-VpZx"
      }
    },
    {
      "cell_type": "markdown",
      "source": [
        "La condition de stabilité nous a permis de choisir une valeur de $h = 1$ \\\\\n",
        "Le schéma d'Euler explicite peut être représenté comme suit : "
      ],
      "metadata": {
        "id": "bpiLMBddaSYI"
      }
    },
    {
      "cell_type": "code",
      "source": [
        "\n",
        "import numpy as np\n",
        "import matplotlib.pyplot as plt\n",
        "\n",
        "def euler_explicit(A, alpha, N, n, h,Ʌ):\n",
        "    S = np.zeros(n+1)\n",
        "    S[0] = N\n",
        "    \n",
        "    for k in range(n):\n",
        "        S[k+1] = S[k] + h * (Ʌ - A*S[k] - alpha*S[k])\n",
        "    \n",
        "    return S\n",
        "\n",
        "# Paramètres du système\n",
        "Ʌ = 1\n",
        "A = 2\n",
        "alpha = 0.5\n",
        "N = 34000000\n",
        "n = 200\n",
        "h = 1\n",
        "\n",
        "# Calcul du schéma d'Euler explicite\n",
        "S = euler_explicit(A, alpha, N, n, h,Ʌ)\n",
        "\n",
        "# Tracé du schéma d'Euler explicite\n",
        "t = np.arange(0, n+1) * h\n",
        "plt.plot(t, S)\n",
        "plt.xlabel('Temps')\n",
        "plt.ylabel('Population (S)')\n",
        "plt.title('Schéma d\\'Euler explicite')\n",
        "plt.show()\n"
      ],
      "metadata": {
        "id": "5cEX_gKBap6i"
      },
      "execution_count": null,
      "outputs": []
    },
    {
      "cell_type": "markdown",
      "source": [
        "**Pour le schéma d'Euler implicite:**"
      ],
      "metadata": {
        "id": "dTzEiwKdbmV3"
      }
    },
    {
      "cell_type": "markdown",
      "source": [
        "Soit h le pas du temps.\n",
        "\\begin{cases}\n",
        "S(t_n+h)=S(t_n)+h(Ʌ - β.(1-α).(1-δ).SI-α.S) \\\\\n",
        "     S(t_0)=N\n",
        "\\end{cases} \\\\\n",
        "\n",
        "⇒\n",
        "\\begin{cases}\n",
        "(1+Ah+αh) S_{n+1} = S_n +hɅ \\\\\n",
        "     S(t_0)=N\n",
        "\\end{cases} \\\\\n",
        "\n",
        "⇒ $ S_{n+1} = \\frac{S_n}{1+Ah+αh} +\\frac{hɅ}{1+Ah+αh} $\n",
        "\n"
      ],
      "metadata": {
        "id": "pI7SHA_FeKT9"
      }
    },
    {
      "cell_type": "markdown",
      "source": [
        "$ S_1 = \\frac{S_0}{1+Ah+αh} +\\frac{hɅ}{1+Ah+αh} $ \\\\\n",
        "$ S_2 = \\frac{S_1}{1+Ah+αh} +\\frac{hɅ}{1+Ah+αh} $ \\\\\n",
        "$ S_2 = \\frac{S_0}{(1+Ah+αh)^2} +\\frac{hɅ}{(1+Ah+αh)^2} +\\frac{hɅ}{1+Ah+αh} $ \\\\\n",
        "D'où on déduit l'expression récurrente du schéma implicite: \\\\\n",
        "\n",
        "$ S_n = \\frac{S_0}{(1+Ah+αh)^n} +∑_{k=1}^n \\frac{hɅ}{(1+Ah+αh)^k} $ \\\\\n",
        "⇒\n",
        "C'est le schéma d'Euler implicite.\n",
        "\n",
        "\n"
      ],
      "metadata": {
        "id": "pgzYD96CjZpg"
      }
    },
    {
      "cell_type": "markdown",
      "source": [
        "**Etude de la convergence :** \\\\\n",
        "L'objectif est de vérifier si $S_n$ converge vers la solution exacte du système lorsque h → 0 . \\\\\n",
        "on tend h vers 0 : \\\\\n",
        "$\\lim_{h \\to 0} S_n = \\lim_{h \\to 0} \\frac{S_0}{(1+Ah+αh)^n} +\\lim_{h \\to 0} ∑_{k=1}^n \\frac{hɅ}{(1+Ah+αh)^k} $ \\\\\n",
        "$ = S_0 + 0 = S_0 $ \\\\\n",
        "Lorsque h tend vers 0, le schéma d'Euler implicite converge bien vers la valeur initiale $S_0$. \\\\\n",
        "On déduit que ce schéma est convergent.\n",
        "\n",
        "\n",
        "\n",
        "\n",
        "\n"
      ],
      "metadata": {
        "id": "UdFt5JanlkIn"
      }
    },
    {
      "cell_type": "code",
      "source": [
        "import numpy as np\n",
        "import matplotlib.pyplot as plt\n",
        "\n",
        "# Définition des paramètres\n",
        "A = 2\n",
        "alpha = 0.5\n",
        "N = 34000000\n",
        "h = 0.1\n",
        "n = 200\n",
        "Ʌ = 1 \n",
        "# Définition de la fonction f(S) = 1 - AS - alpha*S\n",
        "def f(S):\n",
        "    return Ʌ - A*S - alpha*S\n",
        "\n",
        "# Schéma d'Euler implicite\n",
        "def euler_implicit(S0, h, n,Ʌ):\n",
        "    S = [S0]  # Liste pour stocker les valeurs de S\n",
        "    for i in range(1, n+1):\n",
        "        S.append(S[i-1] / (1 + h*A + alpha*h) + h*f(S[i-1]))\n",
        "    return S\n",
        "\n",
        "# Calcul des valeurs de S en utilisant le schéma d'Euler implicite\n",
        "S_values = euler_implicit(N, h, n,Ʌ)\n",
        "\n",
        "# Création du vecteur temps\n",
        "t = np.linspace(0, n*h, n+1)\n",
        "\n",
        "# Tracé de la solution obtenue\n",
        "plt.plot(t, S_values, label='Euler implicite')\n",
        "plt.xlabel('Temps')\n",
        "plt.ylabel('S')\n",
        "plt.title('Schéma d\\'Euler implicite')\n",
        "plt.legend()\n",
        "plt.show()\n"
      ],
      "metadata": {
        "id": "PDu_FsUFNjQJ"
      },
      "execution_count": null,
      "outputs": []
    },
    {
      "cell_type": "markdown",
      "source": [
        "### **Nous préférons utiliser le schéma explicite en raison de sa précision supérieure. Les schémas explicites offrent un contrôle précis de la précision en ajustant le pas de temps. En augmentant le nombre d'itérations ou en réduisant le pas de temps, nous pouvons obtenir des résultats plus précis. Cela nous permet de répondre aux exigences spécifiques du problème et d'obtenir une précision plus élevée lorsque nécessaire. De plus, la simplicité de mise en œuvre des schémas explicites facilite l'ajustement du pas de temps et la gestion de la précision. Par conséquent, compte tenu de l'importance que nous accordons à la précision des résultats, nous optons pour le schéma explicite.**"
      ],
      "metadata": {
        "id": "yONoCIGyX-y7"
      }
    },
    {
      "cell_type": "markdown",
      "metadata": {
        "id": "oPHk7QWXqVjk"
      },
      "source": [
        "# 3. Implémentation (Code Python) \n"
      ]
    },
    {
      "cell_type": "code",
      "execution_count": null,
      "metadata": {
        "id": "sPd4Qt_avgJJ"
      },
      "outputs": [],
      "source": [
        "import numpy as np\n",
        "from scipy.integrate import odeint\n",
        "import time\n",
        "import matplotlib.pyplot as plt"
      ]
    },
    {
      "cell_type": "markdown",
      "source": [
        "**L'algorithme proposé pour la résolution du système :**"
      ],
      "metadata": {
        "id": "j72mUBCPPO0C"
      }
    },
    {
      "cell_type": "code",
      "execution_count": null,
      "metadata": {
        "id": "YYe_pNzjtgRu"
      },
      "outputs": [],
      "source": [
        "def euler_explicit_solver(A, alpha, N, n, h):\n",
        "    S = np.zeros(n+1)\n",
        "    S[0] = N\n",
        "    \n",
        "    for k in range(n):\n",
        "        S[k+1] = S[k] + h * (1 - A*S[k] - alpha*S[k])\n",
        "    \n",
        "    return S\n"
      ]
    },
    {
      "cell_type": "markdown",
      "source": [
        "**pour comparer cette méthode avec la fonction odeint de la bibliothèque SciPy**"
      ],
      "metadata": {
        "id": "0Qqv8BcRPazG"
      }
    },
    {
      "cell_type": "code",
      "source": [
        "def odeint_solver(A, alpha, N, t):\n",
        "    def system(S, t):\n",
        "        return Ʌ - A*S - alpha*S\n",
        "    \n",
        "    S0 = N\n",
        "    S = odeint(system, S0, t)\n",
        "    \n",
        "    return S.flatten()\n",
        "\n",
        "# Paramètres du système\n",
        "A = 2\n",
        "alpha = 0.5\n",
        "N = 34000000\n",
        "n = 200\n",
        "h = 0.1\n",
        "Ʌ = 1\n",
        "\n",
        "# Temps d'échantillonnage\n",
        "t = np.arange(n+1) * h\n",
        "\n",
        "# Résolution avec Euler explicite\n",
        "start_time = time.time()\n",
        "S_euler = euler_explicit_solver(A, alpha, N, n, h)\n",
        "euler_time = time.time() - start_time\n",
        "\n",
        "# Résolution avec odeint\n",
        "start_time = time.time()\n",
        "S_odeint = odeint_solver(A, alpha, N, t)\n",
        "odeint_time = time.time() - start_time\n",
        "\n",
        "# Comparaison des résultats\n",
        "error = np.abs(S_euler - S_odeint)\n",
        "\n",
        "print(\"Erreur maximale : \", np.max(error))\n",
        "print(\"Temps de calcul (Euler explicite) : \", euler_time)\n",
        "print(\"Temps de calcul (odeint) : \", odeint_time)\n"
      ],
      "metadata": {
        "id": "lmddRe2lPnTY"
      },
      "execution_count": null,
      "outputs": []
    },
    {
      "cell_type": "markdown",
      "source": [
        "## **Commentaire :** \n",
        "Dans ce script, nous utilisons la fonction odeint de la bibliothèque SciPy pour résoudre le système différentiel. Nous comparons ensuite les résultats obtenus avec les deux méthodes (Euler explicite et odeint) en calculant l'erreur maximale entre les deux solutions numériques. De plus, nous mesurons également le temps de calcul pour chaque méthode.\n"
      ],
      "metadata": {
        "id": "WqkuUCJRP6zi"
      }
    },
    {
      "cell_type": "markdown",
      "source": [
        "## **Comparaison graphique :** \n",
        "Nous traçons parla suite les solutions obtenues avec les méthodes d'Euler explicite et odeint sur le même graphique. \\\\\n",
        "Les solutions sont tracées en fonction du temps (t) et de la population (S)."
      ],
      "metadata": {
        "id": "EoXDx72yQbPw"
      }
    },
    {
      "cell_type": "code",
      "source": [
        "# Tracé des solutions\n",
        "plt.plot(t, S_euler, label='Euler explicite')\n",
        "plt.plot(t, S_odeint, label='odeint')\n",
        "plt.xlabel('Temps')\n",
        "plt.ylabel('Population (S)')\n",
        "plt.title('Comparaison des solutions : Euler explicite vs odeint')\n",
        "plt.legend()\n",
        "plt.show()\n"
      ],
      "metadata": {
        "id": "qhJ54Si4Q2qJ"
      },
      "execution_count": null,
      "outputs": []
    },
    {
      "cell_type": "markdown",
      "metadata": {
        "id": "el99rplyqadX"
      },
      "source": [
        "# 4. Discussion \n"
      ]
    },
    {
      "cell_type": "markdown",
      "source": [
        "En résumé,  ce projet examine le rôle du confinement de la population susceptible et de l'isolement de la population infectieuse dans la gestion de la propagation des épidémies, en mettant particulièrement l'accent sur le **Covid-19 au Maroc**. L'étude analyse l'impact du nombre de reproduction de base, un facteur clé dans la transmission des épidémies. Pour traiter ce problème nous avons comparé les deux périodes, avant et après confinement : la période avant confinement marquée par l'apparition des cas locaux, et la période après confinement (à partir du 20 mars), caractérisée par la propagation plus large de l'épidémie au sein de la population. \\\\\n",
        "\n",
        "\n",
        "Les résultats démontrent que pendant la phase initiale, le nombre cumulatif de personnes infectées augmente automatiquement. Cependant, lors de la phase ultérieure et grâce à la mise en place de mesures de confinement et d'isolement, le taux de transmission diminue par rapport à la phase initiale. Il est souligné que le nombre de reproduction de base est influencé par les taux de confinement et d'isolement. Une augmentation de ces taux conduit à une diminution du nombre de reproduction en dessous de 1, ce qui indique un contrôle réussi de l'épidémie, tandis que des taux plus bas conduisent à un nombre de reproduction supérieur à 1, ce qui signifie une propagation continue de la maladie. \\\\\n",
        "\n",
        "\n",
        "**En conclusion, la gestion efficace d'une épidémie repose sur la capacité à réguler les taux de confinement pour la population susceptible et d'isolement pour les personnes infectées.**"
      ],
      "metadata": {
        "id": "6BnN68YhRlt_"
      }
    }
  ],
  "metadata": {
    "colab": {
      "provenance": [],
      "collapsed_sections": [
        "SwtD4Qk2p7RQ",
        "zsyeD3U3qGnu",
        "T6JkhvmvqQCA",
        "oPHk7QWXqVjk",
        "el99rplyqadX"
      ]
    },
    "kernelspec": {
      "display_name": "Python 3",
      "name": "python3"
    },
    "language_info": {
      "name": "python"
    }
  },
  "nbformat": 4,
  "nbformat_minor": 0
}